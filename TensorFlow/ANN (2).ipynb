{
  "cells": [
    {
      "cell_type": "markdown",
      "id": "083163bc-4812-4670-a6d9-0c4f864d3355",
      "metadata": {
        "id": "083163bc-4812-4670-a6d9-0c4f864d3355"
      },
      "source": [
        "# Hands on machine learning"
      ]
    },
    {
      "cell_type": "markdown",
      "id": "f02e4821-4c81-48a8-a4ce-fa9bc4ddcaed",
      "metadata": {
        "id": "f02e4821-4c81-48a8-a4ce-fa9bc4ddcaed"
      },
      "source": [
        "## Using perceptron"
      ]
    },
    {
      "cell_type": "code",
      "execution_count": 1,
      "id": "11687931-6c78-434f-81bb-6b006e5e865d",
      "metadata": {
        "id": "11687931-6c78-434f-81bb-6b006e5e865d"
      },
      "outputs": [],
      "source": [
        "import numpy as np\n",
        "from sklearn.datasets import load_iris\n",
        "from sklearn.linear_model import Perceptron"
      ]
    },
    {
      "cell_type": "code",
      "execution_count": 2,
      "id": "48cca0df-46cc-4150-8518-e912f78e0d45",
      "metadata": {
        "id": "48cca0df-46cc-4150-8518-e912f78e0d45"
      },
      "outputs": [],
      "source": [
        "iris = load_iris()\n",
        "X = iris.data[:, (2,3)]\n",
        "y = (iris.target == 0).astype(np.int32)\n",
        "\n",
        "per_clf = Perceptron()\n",
        "per_clf.fit(X,y)\n",
        "\n",
        "y_pred = per_clf.predict([[2, 0.5]])"
      ]
    },
    {
      "cell_type": "code",
      "execution_count": 3,
      "id": "3e05cba4-1726-4fa2-a20c-a59b5375cede",
      "metadata": {
        "colab": {
          "base_uri": "https://localhost:8080/"
        },
        "id": "3e05cba4-1726-4fa2-a20c-a59b5375cede",
        "outputId": "94cdec94-0ce2-4884-e36c-8048e77e60a3"
      },
      "outputs": [
        {
          "output_type": "execute_result",
          "data": {
            "text/plain": [
              "array([0], dtype=int32)"
            ]
          },
          "metadata": {},
          "execution_count": 3
        }
      ],
      "source": [
        "y_pred"
      ]
    },
    {
      "cell_type": "markdown",
      "id": "f1d5b566-aa9e-40a2-91c8-83d772202db2",
      "metadata": {
        "id": "f1d5b566-aa9e-40a2-91c8-83d772202db2"
      },
      "source": [
        "-----"
      ]
    },
    {
      "cell_type": "markdown",
      "id": "70b93461-cecd-4170-830c-60ec81339086",
      "metadata": {
        "id": "70b93461-cecd-4170-830c-60ec81339086"
      },
      "source": [
        "## Practice keras"
      ]
    },
    {
      "cell_type": "code",
      "execution_count": 4,
      "id": "4001e326-6faa-4400-b152-e615c5a32064",
      "metadata": {
        "id": "4001e326-6faa-4400-b152-e615c5a32064"
      },
      "outputs": [],
      "source": [
        "import tensorflow as tf\n",
        "from tensorflow import keras"
      ]
    },
    {
      "cell_type": "code",
      "execution_count": 5,
      "id": "b5bb6f8f-bdf3-45ca-95a0-993bcd2a02f9",
      "metadata": {
        "id": "b5bb6f8f-bdf3-45ca-95a0-993bcd2a02f9"
      },
      "outputs": [],
      "source": [
        "fashion_mnist = keras.datasets.fashion_mnist"
      ]
    },
    {
      "cell_type": "code",
      "execution_count": 6,
      "id": "41a61779-e114-49c5-a362-4ffd6331b0de",
      "metadata": {
        "colab": {
          "base_uri": "https://localhost:8080/"
        },
        "id": "41a61779-e114-49c5-a362-4ffd6331b0de",
        "outputId": "8b41fd12-b0bf-4426-ab95-a8f8f2f7ad47"
      },
      "outputs": [
        {
          "output_type": "stream",
          "name": "stdout",
          "text": [
            "Downloading data from https://storage.googleapis.com/tensorflow/tf-keras-datasets/train-labels-idx1-ubyte.gz\n",
            "32768/29515 [=================================] - 0s 0us/step\n",
            "40960/29515 [=========================================] - 0s 0us/step\n",
            "Downloading data from https://storage.googleapis.com/tensorflow/tf-keras-datasets/train-images-idx3-ubyte.gz\n",
            "26427392/26421880 [==============================] - 0s 0us/step\n",
            "26435584/26421880 [==============================] - 0s 0us/step\n",
            "Downloading data from https://storage.googleapis.com/tensorflow/tf-keras-datasets/t10k-labels-idx1-ubyte.gz\n",
            "16384/5148 [===============================================================================================] - 0s 0us/step\n",
            "Downloading data from https://storage.googleapis.com/tensorflow/tf-keras-datasets/t10k-images-idx3-ubyte.gz\n",
            "4423680/4422102 [==============================] - 0s 0us/step\n",
            "4431872/4422102 [==============================] - 0s 0us/step\n"
          ]
        }
      ],
      "source": [
        "(X_train_full, y_train_full), (X_test, y_test) = fashion_mnist.load_data()"
      ]
    },
    {
      "cell_type": "code",
      "execution_count": 7,
      "id": "6baa25a5-a147-4169-ae70-dee1fdd10d27",
      "metadata": {
        "colab": {
          "base_uri": "https://localhost:8080/"
        },
        "id": "6baa25a5-a147-4169-ae70-dee1fdd10d27",
        "outputId": "0a91ac39-6b31-4c8e-f295-d52ce81338ba"
      },
      "outputs": [
        {
          "output_type": "execute_result",
          "data": {
            "text/plain": [
              "(60000, 28, 28)"
            ]
          },
          "metadata": {},
          "execution_count": 7
        }
      ],
      "source": [
        "X_train_full.shape"
      ]
    },
    {
      "cell_type": "code",
      "execution_count": 8,
      "id": "fc588f83-d956-4c64-b1d4-b46ae7a97223",
      "metadata": {
        "colab": {
          "base_uri": "https://localhost:8080/"
        },
        "id": "fc588f83-d956-4c64-b1d4-b46ae7a97223",
        "outputId": "f9e7f837-cbbb-41a2-deca-d2fafb062636"
      },
      "outputs": [
        {
          "output_type": "execute_result",
          "data": {
            "text/plain": [
              "dtype('uint8')"
            ]
          },
          "metadata": {},
          "execution_count": 8
        }
      ],
      "source": [
        "X_train_full.dtype"
      ]
    },
    {
      "cell_type": "code",
      "execution_count": 9,
      "id": "63b3975c-1932-496b-af79-a7d45ff76f84",
      "metadata": {
        "id": "63b3975c-1932-496b-af79-a7d45ff76f84"
      },
      "outputs": [],
      "source": [
        "X_valid, X_train = X_train_full[:5000] / 255.0, X_train_full[5000:] / 255.0\n",
        "y_valid, y_train = y_train_full[:5000] , y_train_full[5000:] \n",
        "X_test = X_test/ 255.0"
      ]
    },
    {
      "cell_type": "code",
      "execution_count": 10,
      "id": "acc9740c-c97c-4cd2-8e45-5d396af84a12",
      "metadata": {
        "id": "acc9740c-c97c-4cd2-8e45-5d396af84a12"
      },
      "outputs": [],
      "source": [
        "class_names = [\"T-shirt/top\", \"Trouser\", \"Plullover\", \"Dress\", \"Coat\", \"Sandal\", \"Shirt\", \"Sneaker\", \"Bag\", \"Ankle boot\"]"
      ]
    },
    {
      "cell_type": "code",
      "execution_count": 11,
      "id": "78fab9c0-53fb-4d98-8bd4-51476320314e",
      "metadata": {
        "colab": {
          "base_uri": "https://localhost:8080/",
          "height": 35
        },
        "id": "78fab9c0-53fb-4d98-8bd4-51476320314e",
        "outputId": "3330b7a6-884a-4519-b862-3f59866946bb"
      },
      "outputs": [
        {
          "output_type": "execute_result",
          "data": {
            "text/plain": [
              "'Coat'"
            ],
            "application/vnd.google.colaboratory.intrinsic+json": {
              "type": "string"
            }
          },
          "metadata": {},
          "execution_count": 11
        }
      ],
      "source": [
        "class_names[y_train[0]]"
      ]
    },
    {
      "cell_type": "markdown",
      "id": "2f31772c-406e-4640-a3b2-03eceedf40ce",
      "metadata": {
        "id": "2f31772c-406e-4640-a3b2-03eceedf40ce"
      },
      "source": [
        "### how to use sequential model"
      ]
    },
    {
      "cell_type": "code",
      "execution_count": 12,
      "id": "543411e1-6974-427b-9226-39c1008ef090",
      "metadata": {
        "id": "543411e1-6974-427b-9226-39c1008ef090"
      },
      "outputs": [],
      "source": [
        "model = keras.models.Sequential()\n",
        "model.add(keras.layers.Flatten(input_shape = [28,28]))\n",
        "model.add(keras.layers.Dense(300, activation = \"relu\"))\n",
        "model.add(keras.layers.Dense(100, activation = \"relu\"))\n",
        "model.add(keras.layers.Dense(10, activation = \"softmax\"))"
      ]
    },
    {
      "cell_type": "code",
      "execution_count": 13,
      "id": "f8ee0726-dcd4-4b6a-99a6-fcd89e24ae8c",
      "metadata": {
        "colab": {
          "base_uri": "https://localhost:8080/"
        },
        "id": "f8ee0726-dcd4-4b6a-99a6-fcd89e24ae8c",
        "outputId": "180c8433-5632-4541-aa87-7c2d3eddb186"
      },
      "outputs": [
        {
          "output_type": "stream",
          "name": "stdout",
          "text": [
            "Model: \"sequential\"\n",
            "_________________________________________________________________\n",
            " Layer (type)                Output Shape              Param #   \n",
            "=================================================================\n",
            " flatten (Flatten)           (None, 784)               0         \n",
            "                                                                 \n",
            " dense (Dense)               (None, 300)               235500    \n",
            "                                                                 \n",
            " dense_1 (Dense)             (None, 100)               30100     \n",
            "                                                                 \n",
            " dense_2 (Dense)             (None, 10)                1010      \n",
            "                                                                 \n",
            "=================================================================\n",
            "Total params: 266,610\n",
            "Trainable params: 266,610\n",
            "Non-trainable params: 0\n",
            "_________________________________________________________________\n"
          ]
        }
      ],
      "source": [
        "model.summary()"
      ]
    },
    {
      "cell_type": "code",
      "execution_count": 14,
      "id": "eeabb9ad-2c7e-45af-8ac5-ad2ff8fba44b",
      "metadata": {
        "colab": {
          "base_uri": "https://localhost:8080/"
        },
        "id": "eeabb9ad-2c7e-45af-8ac5-ad2ff8fba44b",
        "outputId": "c8956cbe-733b-4ab4-b6a0-8c6929982f07"
      },
      "outputs": [
        {
          "output_type": "execute_result",
          "data": {
            "text/plain": [
              "[<keras.layers.core.flatten.Flatten at 0x7f3dde77ab10>,\n",
              " <keras.layers.core.dense.Dense at 0x7f3ddcfcb690>,\n",
              " <keras.layers.core.dense.Dense at 0x7f3ddcb4f450>,\n",
              " <keras.layers.core.dense.Dense at 0x7f3dd0733210>]"
            ]
          },
          "metadata": {},
          "execution_count": 14
        }
      ],
      "source": [
        "model.layers"
      ]
    },
    {
      "cell_type": "code",
      "execution_count": 15,
      "id": "e707bb9a-88c4-4952-a4f9-dbcb50238534",
      "metadata": {
        "colab": {
          "base_uri": "https://localhost:8080/",
          "height": 35
        },
        "id": "e707bb9a-88c4-4952-a4f9-dbcb50238534",
        "outputId": "6de28778-d099-4e03-bd30-b7faa2e1be2e"
      },
      "outputs": [
        {
          "output_type": "execute_result",
          "data": {
            "text/plain": [
              "'dense'"
            ],
            "application/vnd.google.colaboratory.intrinsic+json": {
              "type": "string"
            }
          },
          "metadata": {},
          "execution_count": 15
        }
      ],
      "source": [
        "hidden1 = model.layers[1]\n",
        "hidden1.name"
      ]
    },
    {
      "cell_type": "code",
      "execution_count": 16,
      "id": "246ea8f3-7c2e-4a0f-a88d-b322d9557a11",
      "metadata": {
        "colab": {
          "base_uri": "https://localhost:8080/"
        },
        "id": "246ea8f3-7c2e-4a0f-a88d-b322d9557a11",
        "outputId": "438b73d8-52a2-432f-dddf-3347d25380ad"
      },
      "outputs": [
        {
          "output_type": "execute_result",
          "data": {
            "text/plain": [
              "False"
            ]
          },
          "metadata": {},
          "execution_count": 16
        }
      ],
      "source": [
        "model.get_layer('dense_2') is hidden1"
      ]
    },
    {
      "cell_type": "code",
      "execution_count": 17,
      "id": "ddece0e0-298b-44d8-b19a-7878048b32cf",
      "metadata": {
        "id": "ddece0e0-298b-44d8-b19a-7878048b32cf"
      },
      "outputs": [],
      "source": [
        "weights, biases = hidden1.get_weights()"
      ]
    },
    {
      "cell_type": "code",
      "execution_count": 18,
      "id": "ca1ec1ff-c788-4d28-a502-368c7f48886b",
      "metadata": {
        "colab": {
          "base_uri": "https://localhost:8080/"
        },
        "id": "ca1ec1ff-c788-4d28-a502-368c7f48886b",
        "outputId": "36d61cae-e258-47d4-8400-61c3f5ab5aae"
      },
      "outputs": [
        {
          "output_type": "execute_result",
          "data": {
            "text/plain": [
              "array([[-0.05539512, -0.05999125,  0.03567299, ..., -0.03194989,\n",
              "        -0.04316743,  0.0447412 ],\n",
              "       [-0.00535385,  0.07288291,  0.06515029, ..., -0.02197117,\n",
              "         0.019072  ,  0.05405539],\n",
              "       [ 0.05108   ,  0.0682057 , -0.05356421, ...,  0.02216989,\n",
              "        -0.00621285, -0.0182403 ],\n",
              "       ...,\n",
              "       [-0.04602948,  0.04492947,  0.01003902, ...,  0.04381679,\n",
              "         0.00133018, -0.0557267 ],\n",
              "       [ 0.03123386,  0.07092465,  0.0166029 , ...,  0.01395288,\n",
              "        -0.02124452, -0.04689126],\n",
              "       [-0.01839781, -0.02782528, -0.0208708 , ..., -0.07000134,\n",
              "         0.03072088, -0.06803705]], dtype=float32)"
            ]
          },
          "metadata": {},
          "execution_count": 18
        }
      ],
      "source": [
        "weights"
      ]
    },
    {
      "cell_type": "code",
      "execution_count": 19,
      "id": "4089a57b-9454-47fc-84b4-f2820cc6ff8a",
      "metadata": {
        "colab": {
          "base_uri": "https://localhost:8080/"
        },
        "id": "4089a57b-9454-47fc-84b4-f2820cc6ff8a",
        "outputId": "3ea77904-d864-4a1a-aae2-12513f6e97a7"
      },
      "outputs": [
        {
          "output_type": "execute_result",
          "data": {
            "text/plain": [
              "(784, 300)"
            ]
          },
          "metadata": {},
          "execution_count": 19
        }
      ],
      "source": [
        "weights.shape"
      ]
    },
    {
      "cell_type": "code",
      "execution_count": 20,
      "id": "012aa291-dc65-4f27-b006-b0753af6d9a7",
      "metadata": {
        "colab": {
          "base_uri": "https://localhost:8080/"
        },
        "id": "012aa291-dc65-4f27-b006-b0753af6d9a7",
        "outputId": "c9c01574-2272-4e01-c5c2-28caaec87e1d"
      },
      "outputs": [
        {
          "output_type": "execute_result",
          "data": {
            "text/plain": [
              "array([0., 0., 0., 0., 0., 0., 0., 0., 0., 0., 0., 0., 0., 0., 0., 0., 0.,\n",
              "       0., 0., 0., 0., 0., 0., 0., 0., 0., 0., 0., 0., 0., 0., 0., 0., 0.,\n",
              "       0., 0., 0., 0., 0., 0., 0., 0., 0., 0., 0., 0., 0., 0., 0., 0., 0.,\n",
              "       0., 0., 0., 0., 0., 0., 0., 0., 0., 0., 0., 0., 0., 0., 0., 0., 0.,\n",
              "       0., 0., 0., 0., 0., 0., 0., 0., 0., 0., 0., 0., 0., 0., 0., 0., 0.,\n",
              "       0., 0., 0., 0., 0., 0., 0., 0., 0., 0., 0., 0., 0., 0., 0., 0., 0.,\n",
              "       0., 0., 0., 0., 0., 0., 0., 0., 0., 0., 0., 0., 0., 0., 0., 0., 0.,\n",
              "       0., 0., 0., 0., 0., 0., 0., 0., 0., 0., 0., 0., 0., 0., 0., 0., 0.,\n",
              "       0., 0., 0., 0., 0., 0., 0., 0., 0., 0., 0., 0., 0., 0., 0., 0., 0.,\n",
              "       0., 0., 0., 0., 0., 0., 0., 0., 0., 0., 0., 0., 0., 0., 0., 0., 0.,\n",
              "       0., 0., 0., 0., 0., 0., 0., 0., 0., 0., 0., 0., 0., 0., 0., 0., 0.,\n",
              "       0., 0., 0., 0., 0., 0., 0., 0., 0., 0., 0., 0., 0., 0., 0., 0., 0.,\n",
              "       0., 0., 0., 0., 0., 0., 0., 0., 0., 0., 0., 0., 0., 0., 0., 0., 0.,\n",
              "       0., 0., 0., 0., 0., 0., 0., 0., 0., 0., 0., 0., 0., 0., 0., 0., 0.,\n",
              "       0., 0., 0., 0., 0., 0., 0., 0., 0., 0., 0., 0., 0., 0., 0., 0., 0.,\n",
              "       0., 0., 0., 0., 0., 0., 0., 0., 0., 0., 0., 0., 0., 0., 0., 0., 0.,\n",
              "       0., 0., 0., 0., 0., 0., 0., 0., 0., 0., 0., 0., 0., 0., 0., 0., 0.,\n",
              "       0., 0., 0., 0., 0., 0., 0., 0., 0., 0., 0.], dtype=float32)"
            ]
          },
          "metadata": {},
          "execution_count": 20
        }
      ],
      "source": [
        "biases"
      ]
    },
    {
      "cell_type": "code",
      "execution_count": 21,
      "id": "86d31779-bc0c-4d0d-bf6b-061fce4b4545",
      "metadata": {
        "colab": {
          "base_uri": "https://localhost:8080/"
        },
        "id": "86d31779-bc0c-4d0d-bf6b-061fce4b4545",
        "outputId": "7fa61e0f-222e-424c-838f-64bdb8dddcd6"
      },
      "outputs": [
        {
          "output_type": "execute_result",
          "data": {
            "text/plain": [
              "(300,)"
            ]
          },
          "metadata": {},
          "execution_count": 21
        }
      ],
      "source": [
        "biases.shape"
      ]
    },
    {
      "cell_type": "code",
      "execution_count": 22,
      "id": "94875901-e560-4c67-8525-e0f6222cb2c5",
      "metadata": {
        "id": "94875901-e560-4c67-8525-e0f6222cb2c5"
      },
      "outputs": [],
      "source": [
        "model.compile(loss = \"sparse_categorical_crossentropy\", optimizer = \"sgd\", metrics=[\"accuracy\"])"
      ]
    },
    {
      "cell_type": "code",
      "execution_count": 23,
      "id": "878e7cf5-2957-4d14-b4f0-42680722e846",
      "metadata": {
        "colab": {
          "base_uri": "https://localhost:8080/"
        },
        "id": "878e7cf5-2957-4d14-b4f0-42680722e846",
        "outputId": "3ef23a35-75f2-47cf-a997-7c7ec324a2de"
      },
      "outputs": [
        {
          "output_type": "stream",
          "name": "stdout",
          "text": [
            "Epoch 1/30\n",
            "1719/1719 [==============================] - 11s 4ms/step - loss: 0.7342 - accuracy: 0.7586 - val_loss: 0.5417 - val_accuracy: 0.8130\n",
            "Epoch 2/30\n",
            "1719/1719 [==============================] - 4s 3ms/step - loss: 0.4885 - accuracy: 0.8293 - val_loss: 0.4633 - val_accuracy: 0.8426\n",
            "Epoch 3/30\n",
            "1719/1719 [==============================] - 4s 3ms/step - loss: 0.4409 - accuracy: 0.8453 - val_loss: 0.4618 - val_accuracy: 0.8282\n",
            "Epoch 4/30\n",
            "1719/1719 [==============================] - 4s 3ms/step - loss: 0.4135 - accuracy: 0.8545 - val_loss: 0.3913 - val_accuracy: 0.8674\n",
            "Epoch 5/30\n",
            "1719/1719 [==============================] - 5s 3ms/step - loss: 0.3934 - accuracy: 0.8621 - val_loss: 0.3959 - val_accuracy: 0.8606\n",
            "Epoch 6/30\n",
            "1719/1719 [==============================] - 4s 3ms/step - loss: 0.3778 - accuracy: 0.8660 - val_loss: 0.3733 - val_accuracy: 0.8662\n",
            "Epoch 7/30\n",
            "1719/1719 [==============================] - 4s 3ms/step - loss: 0.3646 - accuracy: 0.8702 - val_loss: 0.3680 - val_accuracy: 0.8658\n",
            "Epoch 8/30\n",
            "1719/1719 [==============================] - 4s 3ms/step - loss: 0.3535 - accuracy: 0.8735 - val_loss: 0.3547 - val_accuracy: 0.8710\n",
            "Epoch 9/30\n",
            "1719/1719 [==============================] - 4s 3ms/step - loss: 0.3433 - accuracy: 0.8779 - val_loss: 0.3746 - val_accuracy: 0.8634\n",
            "Epoch 10/30\n",
            "1719/1719 [==============================] - 4s 3ms/step - loss: 0.3348 - accuracy: 0.8801 - val_loss: 0.3588 - val_accuracy: 0.8730\n",
            "Epoch 11/30\n",
            "1719/1719 [==============================] - 4s 3ms/step - loss: 0.3263 - accuracy: 0.8841 - val_loss: 0.3559 - val_accuracy: 0.8702\n",
            "Epoch 12/30\n",
            "1719/1719 [==============================] - 5s 3ms/step - loss: 0.3182 - accuracy: 0.8859 - val_loss: 0.3521 - val_accuracy: 0.8734\n",
            "Epoch 13/30\n",
            "1719/1719 [==============================] - 5s 3ms/step - loss: 0.3119 - accuracy: 0.8882 - val_loss: 0.3321 - val_accuracy: 0.8800\n",
            "Epoch 14/30\n",
            "1719/1719 [==============================] - 5s 3ms/step - loss: 0.3045 - accuracy: 0.8914 - val_loss: 0.3325 - val_accuracy: 0.8782\n",
            "Epoch 15/30\n",
            "1719/1719 [==============================] - 5s 3ms/step - loss: 0.2981 - accuracy: 0.8922 - val_loss: 0.3288 - val_accuracy: 0.8816\n",
            "Epoch 16/30\n",
            "1719/1719 [==============================] - 5s 3ms/step - loss: 0.2920 - accuracy: 0.8947 - val_loss: 0.3324 - val_accuracy: 0.8794\n",
            "Epoch 17/30\n",
            "1719/1719 [==============================] - 4s 3ms/step - loss: 0.2862 - accuracy: 0.8972 - val_loss: 0.3194 - val_accuracy: 0.8836\n",
            "Epoch 18/30\n",
            "1719/1719 [==============================] - 4s 3ms/step - loss: 0.2813 - accuracy: 0.8983 - val_loss: 0.3285 - val_accuracy: 0.8810\n",
            "Epoch 19/30\n",
            "1719/1719 [==============================] - 4s 3ms/step - loss: 0.2760 - accuracy: 0.9003 - val_loss: 0.3164 - val_accuracy: 0.8872\n",
            "Epoch 20/30\n",
            "1719/1719 [==============================] - 4s 3ms/step - loss: 0.2712 - accuracy: 0.9018 - val_loss: 0.3092 - val_accuracy: 0.8844\n",
            "Epoch 21/30\n",
            "1719/1719 [==============================] - 4s 3ms/step - loss: 0.2647 - accuracy: 0.9047 - val_loss: 0.3110 - val_accuracy: 0.8880\n",
            "Epoch 22/30\n",
            "1719/1719 [==============================] - 4s 3ms/step - loss: 0.2605 - accuracy: 0.9063 - val_loss: 0.3023 - val_accuracy: 0.8872\n",
            "Epoch 23/30\n",
            "1719/1719 [==============================] - 4s 3ms/step - loss: 0.2562 - accuracy: 0.9084 - val_loss: 0.3085 - val_accuracy: 0.8864\n",
            "Epoch 24/30\n",
            "1719/1719 [==============================] - 5s 3ms/step - loss: 0.2523 - accuracy: 0.9095 - val_loss: 0.3110 - val_accuracy: 0.8862\n",
            "Epoch 25/30\n",
            "1719/1719 [==============================] - 4s 3ms/step - loss: 0.2483 - accuracy: 0.9100 - val_loss: 0.2999 - val_accuracy: 0.8926\n",
            "Epoch 26/30\n",
            "1719/1719 [==============================] - 4s 3ms/step - loss: 0.2438 - accuracy: 0.9113 - val_loss: 0.2977 - val_accuracy: 0.8930\n",
            "Epoch 27/30\n",
            "1719/1719 [==============================] - 4s 3ms/step - loss: 0.2400 - accuracy: 0.9137 - val_loss: 0.3009 - val_accuracy: 0.8894\n",
            "Epoch 28/30\n",
            "1719/1719 [==============================] - 4s 3ms/step - loss: 0.2355 - accuracy: 0.9154 - val_loss: 0.2959 - val_accuracy: 0.8942\n",
            "Epoch 29/30\n",
            "1719/1719 [==============================] - 4s 3ms/step - loss: 0.2329 - accuracy: 0.9165 - val_loss: 0.2936 - val_accuracy: 0.8940\n",
            "Epoch 30/30\n",
            "1719/1719 [==============================] - 4s 3ms/step - loss: 0.2290 - accuracy: 0.9173 - val_loss: 0.2996 - val_accuracy: 0.8906\n"
          ]
        }
      ],
      "source": [
        "history = model.fit(X_train, y_train, epochs = 30, validation_data = (X_valid, y_valid))"
      ]
    },
    {
      "cell_type": "code",
      "execution_count": 24,
      "id": "f931c0e0-7cc2-44fe-b588-81a78542427b",
      "metadata": {
        "colab": {
          "base_uri": "https://localhost:8080/",
          "height": 324
        },
        "id": "f931c0e0-7cc2-44fe-b588-81a78542427b",
        "outputId": "d803d49b-e656-4a47-9307-7aea572d614c"
      },
      "outputs": [
        {
          "output_type": "display_data",
          "data": {
            "text/plain": [
              "<Figure size 576x360 with 1 Axes>"
            ],
            "image/png": "[encoded data removed]"
          },
          "metadata": {
            "needs_background": "light"
          }
        }
      ],
      "source": [
        "import pandas as pd\n",
        "import matplotlib.pyplot as plt\n",
        "\n",
        "pd.DataFrame(history.history).plot(figsize = (8,5))\n",
        "plt.grid(True)\n",
        "plt.gca().set_ylim(0,1)\n",
        "plt.show()"
      ]
    },
    {
      "cell_type": "code",
      "execution_count": 25,
      "id": "137f14b9-ad14-44a1-82af-d281f2eb0591",
      "metadata": {
        "colab": {
          "base_uri": "https://localhost:8080/"
        },
        "id": "137f14b9-ad14-44a1-82af-d281f2eb0591",
        "outputId": "921d3511-029f-4af8-be57-0d48159d95db"
      },
      "outputs": [
        {
          "output_type": "stream",
          "name": "stdout",
          "text": [
            "313/313 [==============================] - 1s 2ms/step - loss: 0.3316 - accuracy: 0.8796\n"
          ]
        },
        {
          "output_type": "execute_result",
          "data": {
            "text/plain": [
              "[0.33159828186035156, 0.8795999884605408]"
            ]
          },
          "metadata": {},
          "execution_count": 25
        }
      ],
      "source": [
        "model.evaluate(X_test, y_test)"
      ]
    }
  ],
  "metadata": {
    "kernelspec": {
      "display_name": "dylan",
      "language": "python",
      "name": "dylan"
    },
    "language_info": {
      "codemirror_mode": {
        "name": "ipython",
        "version": 3
      },
      "file_extension": ".py",
      "mimetype": "text/x-python",
      "name": "python",
      "nbconvert_exporter": "python",
      "pygments_lexer": "ipython3",
      "version": "3.9.7"
    },
    "colab": {
      "name": "ANN.ipynb",
      "provenance": [],
      "collapsed_sections": []
    },
    "accelerator": "GPU",
    "gpuClass": "standard"
  },
  "nbformat": 4,
  "nbformat_minor": 5
}